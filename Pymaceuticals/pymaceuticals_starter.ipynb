{
 "cells": [
  {
   "cell_type": "markdown",
   "metadata": {},
   "source": [
    "## Observations and Insights "
   ]
  },
  {
   "cell_type": "markdown",
   "metadata": {},
   "source": []
  },
  {
   "cell_type": "code",
   "execution_count": 1,
   "metadata": {},
   "outputs": [
    {
     "name": "stdout",
     "output_type": "stream",
     "text": [
      "     Mouse ID Drug Regimen   Sex  Age_months  Weight (g)  Timepoint  \\\n",
      "0        k403     Ramicane  Male          21          16          0   \n",
      "1        k403     Ramicane  Male          21          16          5   \n",
      "2        k403     Ramicane  Male          21          16         10   \n",
      "3        k403     Ramicane  Male          21          16         15   \n",
      "4        k403     Ramicane  Male          21          16         20   \n",
      "...       ...          ...   ...         ...         ...        ...   \n",
      "1888     z969     Naftisol  Male           9          30         25   \n",
      "1889     z969     Naftisol  Male           9          30         30   \n",
      "1890     z969     Naftisol  Male           9          30         35   \n",
      "1891     z969     Naftisol  Male           9          30         40   \n",
      "1892     z969     Naftisol  Male           9          30         45   \n",
      "\n",
      "      Tumor Volume (mm3)  Metastatic Sites  \n",
      "0              45.000000                 0  \n",
      "1              38.825898                 0  \n",
      "2              35.014271                 1  \n",
      "3              34.223992                 1  \n",
      "4              32.997729                 1  \n",
      "...                  ...               ...  \n",
      "1888           63.145652                 2  \n",
      "1889           65.841013                 3  \n",
      "1890           69.176246                 4  \n",
      "1891           70.314904                 4  \n",
      "1892           73.867845                 4  \n",
      "\n",
      "[1893 rows x 8 columns]\n"
     ]
    }
   ],
   "source": [
    "# Dependencies and Setup\n",
    "import matplotlib.pyplot as plt\n",
    "import pandas as pd\n",
    "import scipy.stats as st\n",
    "\n",
    "# Study data files\n",
    "mouse_metadata_path = \"data/Mouse_metadata.csv\"\n",
    "study_results_path = \"data/Study_results.csv\"\n",
    "\n",
    "# Read the mouse data and the study results\n",
    "mouse_metadata = pd.read_csv(mouse_metadata_path)\n",
    "study_results = pd.read_csv(study_results_path)\n",
    "\n",
    "# Combine the data into a single dataset\n",
    "df= pd.merge(mouse_metadata,study_results, on ='Mouse ID', how='outer')\n",
    "df.shape\n",
    "\n",
    "# Display the data table for preview\n",
    "print(df)"
   ]
  },
  {
   "cell_type": "code",
   "execution_count": 2,
   "metadata": {},
   "outputs": [
    {
     "data": {
      "text/plain": [
       "249"
      ]
     },
     "execution_count": 2,
     "metadata": {},
     "output_type": "execute_result"
    }
   ],
   "source": [
    "# Checking the number of mice.\n",
    "mice_count = len(df[\"Mouse ID\"].unique())\n",
    "mice_count"
   ]
  },
  {
   "cell_type": "code",
   "execution_count": 3,
   "metadata": {},
   "outputs": [
    {
     "name": "stdout",
     "output_type": "stream",
     "text": [
      "['The Mouse ID with duplicated timepoint is g989']\n"
     ]
    }
   ],
   "source": [
    "# Getting the duplicate mice by ID number that shows up for Mouse ID and Timepoint. \n",
    "duplicate_df=df.duplicated(subset=['Mouse ID','Timepoint'])\n",
    "df['Duplicated']=duplicate_df.values\n",
    "mouse_ID = (df.loc[df['Duplicated']==True,'Mouse ID']).unique()\n",
    "print('The Mouse ID with duplicated timepoint is '+ mouse_ID)"
   ]
  },
  {
   "cell_type": "code",
   "execution_count": 4,
   "metadata": {},
   "outputs": [],
   "source": [
    "# Optional: Get all the data for the duplicate mouse ID. \n",
    "\n"
   ]
  },
  {
   "cell_type": "code",
   "execution_count": 5,
   "metadata": {},
   "outputs": [
    {
     "data": {
      "text/html": [
       "<div>\n",
       "<style scoped>\n",
       "    .dataframe tbody tr th:only-of-type {\n",
       "        vertical-align: middle;\n",
       "    }\n",
       "\n",
       "    .dataframe tbody tr th {\n",
       "        vertical-align: top;\n",
       "    }\n",
       "\n",
       "    .dataframe thead th {\n",
       "        text-align: right;\n",
       "    }\n",
       "</style>\n",
       "<table border=\"1\" class=\"dataframe\">\n",
       "  <thead>\n",
       "    <tr style=\"text-align: right;\">\n",
       "      <th></th>\n",
       "      <th>Mouse ID</th>\n",
       "      <th>Drug Regimen</th>\n",
       "      <th>Sex</th>\n",
       "      <th>Age_months</th>\n",
       "      <th>Weight (g)</th>\n",
       "      <th>Timepoint</th>\n",
       "      <th>Tumor Volume (mm3)</th>\n",
       "      <th>Metastatic Sites</th>\n",
       "      <th>Duplicated</th>\n",
       "    </tr>\n",
       "  </thead>\n",
       "  <tbody>\n",
       "    <tr>\n",
       "      <th>0</th>\n",
       "      <td>k403</td>\n",
       "      <td>Ramicane</td>\n",
       "      <td>Male</td>\n",
       "      <td>21</td>\n",
       "      <td>16</td>\n",
       "      <td>0</td>\n",
       "      <td>45.000000</td>\n",
       "      <td>0</td>\n",
       "      <td>False</td>\n",
       "    </tr>\n",
       "    <tr>\n",
       "      <th>1</th>\n",
       "      <td>k403</td>\n",
       "      <td>Ramicane</td>\n",
       "      <td>Male</td>\n",
       "      <td>21</td>\n",
       "      <td>16</td>\n",
       "      <td>5</td>\n",
       "      <td>38.825898</td>\n",
       "      <td>0</td>\n",
       "      <td>False</td>\n",
       "    </tr>\n",
       "    <tr>\n",
       "      <th>2</th>\n",
       "      <td>k403</td>\n",
       "      <td>Ramicane</td>\n",
       "      <td>Male</td>\n",
       "      <td>21</td>\n",
       "      <td>16</td>\n",
       "      <td>10</td>\n",
       "      <td>35.014271</td>\n",
       "      <td>1</td>\n",
       "      <td>False</td>\n",
       "    </tr>\n",
       "    <tr>\n",
       "      <th>3</th>\n",
       "      <td>k403</td>\n",
       "      <td>Ramicane</td>\n",
       "      <td>Male</td>\n",
       "      <td>21</td>\n",
       "      <td>16</td>\n",
       "      <td>15</td>\n",
       "      <td>34.223992</td>\n",
       "      <td>1</td>\n",
       "      <td>False</td>\n",
       "    </tr>\n",
       "    <tr>\n",
       "      <th>4</th>\n",
       "      <td>k403</td>\n",
       "      <td>Ramicane</td>\n",
       "      <td>Male</td>\n",
       "      <td>21</td>\n",
       "      <td>16</td>\n",
       "      <td>20</td>\n",
       "      <td>32.997729</td>\n",
       "      <td>1</td>\n",
       "      <td>False</td>\n",
       "    </tr>\n",
       "  </tbody>\n",
       "</table>\n",
       "</div>"
      ],
      "text/plain": [
       "  Mouse ID Drug Regimen   Sex  Age_months  Weight (g)  Timepoint  \\\n",
       "0     k403     Ramicane  Male          21          16          0   \n",
       "1     k403     Ramicane  Male          21          16          5   \n",
       "2     k403     Ramicane  Male          21          16         10   \n",
       "3     k403     Ramicane  Male          21          16         15   \n",
       "4     k403     Ramicane  Male          21          16         20   \n",
       "\n",
       "   Tumor Volume (mm3)  Metastatic Sites  Duplicated  \n",
       "0           45.000000                 0       False  \n",
       "1           38.825898                 0       False  \n",
       "2           35.014271                 1       False  \n",
       "3           34.223992                 1       False  \n",
       "4           32.997729                 1       False  "
      ]
     },
     "execution_count": 5,
     "metadata": {},
     "output_type": "execute_result"
    }
   ],
   "source": [
    "# Create a clean DataFrame by dropping the duplicate mouse by its ID.\n",
    "df_clean = df.drop_duplicates(subset=['Mouse ID','Timepoint'])\n",
    "df_clean.shape\n",
    "df_clean.head()"
   ]
  },
  {
   "cell_type": "code",
   "execution_count": 6,
   "metadata": {},
   "outputs": [
    {
     "data": {
      "text/plain": [
       "249"
      ]
     },
     "execution_count": 6,
     "metadata": {},
     "output_type": "execute_result"
    }
   ],
   "source": [
    "# Checking the number of mice in the clean DataFrame.\n",
    "mice_count = len(df_clean['Mouse ID'].unique())\n",
    "mice_count"
   ]
  },
  {
   "cell_type": "markdown",
   "metadata": {},
   "source": [
    "## Summary Statistics"
   ]
  },
  {
   "cell_type": "code",
   "execution_count": 7,
   "metadata": {},
   "outputs": [
    {
     "name": "stdout",
     "output_type": "stream",
     "text": [
      "                   Mean     Median   Variance  Standard Deviation  \\\n",
      "Drug Regimen                                                        \n",
      "Capomulin     40.675741  41.557809  24.947764            4.994774   \n",
      "Ceftamin      52.591172  51.776157  39.290177            6.268188   \n",
      "Infubinol     52.884795  51.820584  43.128684            6.567243   \n",
      "Ketapril      55.235638  53.698743  68.553577            8.279709   \n",
      "Naftisol      54.331565  52.509285  66.173479            8.134708   \n",
      "Placebo       54.033581  52.288934  61.168083            7.821003   \n",
      "Propriva      52.393463  50.909965  43.138803            6.568014   \n",
      "Ramicane      40.216745  40.673236  23.486704            4.846308   \n",
      "Stelasyn      54.233149  52.431737  59.450562            7.710419   \n",
      "Zoniferol     53.236507  51.818479  48.533355            6.966589   \n",
      "\n",
      "              Standard Error of the Mean  \n",
      "Drug Regimen                              \n",
      "Capomulin                       0.329346  \n",
      "Ceftamin                        0.469821  \n",
      "Infubinol                       0.492236  \n",
      "Ketapril                        0.603860  \n",
      "Naftisol                        0.596466  \n",
      "Placebo                         0.581331  \n",
      "Propriva                        0.525862  \n",
      "Ramicane                        0.320955  \n",
      "Stelasyn                        0.573111  \n",
      "Zoniferol                       0.516398  \n"
     ]
    }
   ],
   "source": [
    "# Generate a summary statistics table of mean, median, variance, standard deviation, and SEM of the tumor volume for each regimen\n",
    "# Use groupby and summary statistical methods to calculate the following properties of each drug regimen:\n",
    "# mean, median, variance, standard deviation, and SEM of the tumor volume.\n",
    "# Assemble the resulting series into a single summary dataframe.\n",
    "\n",
    "df_drug = df_clean.groupby('Drug Regimen')\n",
    "mean_by_drug = df_drug['Tumor Volume (mm3)'].mean()\n",
    "median_by_drug = df_drug['Tumor Volume (mm3)'].median()\n",
    "var_by_drug = df_drug['Tumor Volume (mm3)'].var()\n",
    "std_by_drug = df_drug['Tumor Volume (mm3)'].std()\n",
    "sem_by_drug = df_drug['Tumor Volume (mm3)'].sem()\n",
    "table_stats = pd.merge(mean_by_drug,median_by_drug, on='Drug Regimen')\n",
    "table_stats=table_stats.rename(columns={'Tumor Volume (mm3)_x':'Mean','Tumor Volume (mm3)_y':'Median'})\n",
    "table_stats = pd.merge(table_stats,var_by_drug, on='Drug Regimen')\n",
    "table_stats=table_stats.rename(columns={'Tumor Volume (mm3)':'Variance'})\n",
    "table_stats = pd.merge(table_stats,std_by_drug, on='Drug Regimen')\n",
    "table_stats=table_stats.rename(columns={'Tumor Volume (mm3)':'Standard Deviation'})\n",
    "table_stats = pd.merge(table_stats,sem_by_drug, on='Drug Regimen')\n",
    "table_stats=table_stats.rename(columns={'Tumor Volume (mm3)':'Standard Error of the Mean'})\n",
    "\n",
    "print(table_stats)\n",
    " \n",
    "\n"
   ]
  },
  {
   "cell_type": "code",
   "execution_count": 8,
   "metadata": {},
   "outputs": [
    {
     "name": "stdout",
     "output_type": "stream",
     "text": [
      "             Tumor Volume (mm3)                                           \\\n",
      "                           Mean     Median   Variance Standard Deviation   \n",
      "Drug Regimen                                                               \n",
      "Capomulin             40.675741  41.557809  24.947764           4.994774   \n",
      "Ceftamin              52.591172  51.776157  39.290177           6.268188   \n",
      "Infubinol             52.884795  51.820584  43.128684           6.567243   \n",
      "Ketapril              55.235638  53.698743  68.553577           8.279709   \n",
      "Naftisol              54.331565  52.509285  66.173479           8.134708   \n",
      "Placebo               54.033581  52.288934  61.168083           7.821003   \n",
      "Propriva              52.393463  50.909965  43.138803           6.568014   \n",
      "Ramicane              40.216745  40.673236  23.486704           4.846308   \n",
      "Stelasyn              54.233149  52.431737  59.450562           7.710419   \n",
      "Zoniferol             53.236507  51.818479  48.533355           6.966589   \n",
      "\n",
      "                                         \n",
      "             Standard Error of the Mean  \n",
      "Drug Regimen                             \n",
      "Capomulin                      0.329346  \n",
      "Ceftamin                       0.469821  \n",
      "Infubinol                      0.492236  \n",
      "Ketapril                       0.603860  \n",
      "Naftisol                       0.596466  \n",
      "Placebo                        0.581331  \n",
      "Propriva                       0.525862  \n",
      "Ramicane                       0.320955  \n",
      "Stelasyn                       0.573111  \n",
      "Zoniferol                      0.516398  \n"
     ]
    }
   ],
   "source": [
    "# Generate a summary statistics table of mean, median, variance, standard deviation, and SEM of the tumor volume for each regimen\n",
    "\n",
    "# Using the aggregation method, produce the same summary statistics in a single line\n",
    "stats = df_drug.agg({\"Tumor Volume (mm3)\": ['mean','median','var','std','sem']})\n",
    "stats = stats.rename(columns={'mean':'Mean','median':'Median','var':'Variance','std':'Standard Deviation','sem':'Standard Error of the Mean'})\n",
    "print(stats)\n"
   ]
  },
  {
   "cell_type": "markdown",
   "metadata": {},
   "source": [
    "## Bar and Pie Charts"
   ]
  },
  {
   "cell_type": "code",
   "execution_count": 9,
   "metadata": {},
   "outputs": [
    {
     "data": {
      "image/png": "[encoded data removed]",
      "text/plain": [
       "<Figure size 1152x576 with 1 Axes>"
      ]
     },
     "metadata": {
      "needs_background": "light"
     },
     "output_type": "display_data"
    }
   ],
   "source": [
    "# Generate a bar plot showing the total number of measurements taken on each drug regimen using pandas.\n",
    "count_by_drug = df_drug['Tumor Volume (mm3)'].count()\n",
    "plot1 = count_by_drug.plot(kind='bar',color = 'r', figsize=(16,8))\n",
    "plot1.set_xlabel('Drug Regimen',fontsize=14)\n",
    "plot1.set_ylabel('Total Number of Measurements Regimen',fontsize=14)\n",
    "plot1.set_title('Measurements Per Drug',fontsize=20)\n",
    "plot1.set_ylim(0,250)\n",
    "plot1.yaxis.grid(True, color='grey', linestyle='--', linewidth=0.3)\n",
    "plt.show()"
   ]
  },
  {
   "cell_type": "code",
   "execution_count": 10,
   "metadata": {},
   "outputs": [
    {
     "data": {
      "image/png": "[encoded data removed]",
      "text/plain": [
       "<Figure size 1152x576 with 1 Axes>"
      ]
     },
     "metadata": {
      "needs_background": "light"
     },
     "output_type": "display_data"
    }
   ],
   "source": [
    "# Generate a bar plot showing the total number of measurements taken on each drug regimen using pyplot.\n",
    "axis_x = count_by_drug.index\n",
    "axis_y = count_by_drug.values\n",
    "plt.subplots(figsize=(16, 8))\n",
    "plt.bar(axis_x, axis_y, width=0.5, color='r', align=\"center\")\n",
    "plt.xlabel('Drug Regimen',fontsize=14)\n",
    "plt.ylabel('Total Number of Measurements Regimen',fontsize=14)\n",
    "plt.xticks(rotation=90)\n",
    "plt.title('Measurements Per Drug',fontsize=20)\n",
    "plt.ylim(0,250)\n",
    "plt.grid(axis='y',color='grey', linestyle='--', linewidth=0.3)\n",
    "plt.show()"
   ]
  },
  {
   "cell_type": "code",
   "execution_count": 11,
   "metadata": {},
   "outputs": [
    {
     "data": {
      "image/png": "[encoded data removed]",
      "text/plain": [
       "<Figure size 432x288 with 1 Axes>"
      ]
     },
     "metadata": {},
     "output_type": "display_data"
    }
   ],
   "source": [
    "# Generate a pie plot showing the distribution of female versus male mice using pandas\n",
    "male = len(df_clean.loc[df_clean['Sex']=='Male'])\n",
    "female = len(df_clean.loc[df_clean['Sex']=='Female'])\n",
    "explode = (0.1,0)\n",
    "pie_sex = pd.Series([male,female])\n",
    "colors = [\"lightblue\",\"lightcoral\"]\n",
    "pie_labels = ['male','female']\n",
    "pie_plot=pie_sex.plot(kind='pie',y = pie_sex.values, title = 'Female versus Male', explode = explode, colors=colors,startangle=90, labels = pie_labels, shadow = True, autopct=\"%1.1f%%\")\n",
    "\n",
    "\n",
    "plt.show()"
   ]
  },
  {
   "cell_type": "code",
   "execution_count": 12,
   "metadata": {},
   "outputs": [
    {
     "data": {
      "text/plain": [
       "Text(0.5, 1.0, 'Female versus Male')"
      ]
     },
     "execution_count": 12,
     "metadata": {},
     "output_type": "execute_result"
    },
    {
     "data": {
      "image/png": "[encoded data removed]",
      "text/plain": [
       "<Figure size 432x288 with 1 Axes>"
      ]
     },
     "metadata": {},
     "output_type": "display_data"
    }
   ],
   "source": [
    "# Generate a pie plot showing the distribution of female versus male mice using pyplot\n",
    "df_clean['Sex'].unique()\n",
    "male = len(df_clean.loc[df_clean['Sex']=='Male'])\n",
    "female = len(df_clean.loc[df_clean['Sex']=='Female'])\n",
    "pie_sex = [male,female]\n",
    "explode = (0.1,0)\n",
    "plt.pie(pie_sex, explode = explode, labels=pie_labels, colors=colors,\n",
    "        autopct=\"%1.1f%%\", shadow=True, startangle=90)\n",
    "plt.axis(\"equal\")\n",
    "plt.title('Female versus Male')"
   ]
  },
  {
   "cell_type": "markdown",
   "metadata": {},
   "source": [
    "## Quartiles, Outliers and Boxplots"
   ]
  },
  {
   "cell_type": "code",
   "execution_count": 13,
   "metadata": {
    "scrolled": true
   },
   "outputs": [
    {
     "data": {
      "text/html": [
       "<div>\n",
       "<style scoped>\n",
       "    .dataframe tbody tr th:only-of-type {\n",
       "        vertical-align: middle;\n",
       "    }\n",
       "\n",
       "    .dataframe tbody tr th {\n",
       "        vertical-align: top;\n",
       "    }\n",
       "\n",
       "    .dataframe thead th {\n",
       "        text-align: right;\n",
       "    }\n",
       "</style>\n",
       "<table border=\"1\" class=\"dataframe\">\n",
       "  <thead>\n",
       "    <tr style=\"text-align: right;\">\n",
       "      <th></th>\n",
       "      <th>Mouse ID</th>\n",
       "      <th>Capomulin Final Tumor Volume (mm3)</th>\n",
       "      <th>Ramicane Final Tumor Volume (mm3)</th>\n",
       "      <th>Infubinol Final Tumor Volume (mm3)</th>\n",
       "      <th>Ceftamin Final Tumor Volume (mm3)</th>\n",
       "    </tr>\n",
       "  </thead>\n",
       "  <tbody>\n",
       "    <tr>\n",
       "      <th>0</th>\n",
       "      <td>s185</td>\n",
       "      <td>23.343598</td>\n",
       "      <td>NaN</td>\n",
       "      <td>NaN</td>\n",
       "      <td>NaN</td>\n",
       "    </tr>\n",
       "    <tr>\n",
       "      <th>1</th>\n",
       "      <td>x401</td>\n",
       "      <td>28.484033</td>\n",
       "      <td>NaN</td>\n",
       "      <td>NaN</td>\n",
       "      <td>NaN</td>\n",
       "    </tr>\n",
       "    <tr>\n",
       "      <th>2</th>\n",
       "      <td>m601</td>\n",
       "      <td>28.430964</td>\n",
       "      <td>NaN</td>\n",
       "      <td>NaN</td>\n",
       "      <td>NaN</td>\n",
       "    </tr>\n",
       "    <tr>\n",
       "      <th>3</th>\n",
       "      <td>u364</td>\n",
       "      <td>31.023923</td>\n",
       "      <td>NaN</td>\n",
       "      <td>NaN</td>\n",
       "      <td>NaN</td>\n",
       "    </tr>\n",
       "    <tr>\n",
       "      <th>4</th>\n",
       "      <td>y793</td>\n",
       "      <td>31.896238</td>\n",
       "      <td>NaN</td>\n",
       "      <td>NaN</td>\n",
       "      <td>NaN</td>\n",
       "    </tr>\n",
       "  </tbody>\n",
       "</table>\n",
       "</div>"
      ],
      "text/plain": [
       "  Mouse ID  Capomulin Final Tumor Volume (mm3)  \\\n",
       "0     s185                           23.343598   \n",
       "1     x401                           28.484033   \n",
       "2     m601                           28.430964   \n",
       "3     u364                           31.023923   \n",
       "4     y793                           31.896238   \n",
       "\n",
       "   Ramicane Final Tumor Volume (mm3)  Infubinol Final Tumor Volume (mm3)  \\\n",
       "0                                NaN                                 NaN   \n",
       "1                                NaN                                 NaN   \n",
       "2                                NaN                                 NaN   \n",
       "3                                NaN                                 NaN   \n",
       "4                                NaN                                 NaN   \n",
       "\n",
       "   Ceftamin Final Tumor Volume (mm3)  \n",
       "0                                NaN  \n",
       "1                                NaN  \n",
       "2                                NaN  \n",
       "3                                NaN  \n",
       "4                                NaN  "
      ]
     },
     "execution_count": 13,
     "metadata": {},
     "output_type": "execute_result"
    }
   ],
   "source": [
    "# Calculate the final tumor volume of each mouse across four of the treatment regimens:  \n",
    "# Capomulin, Ramicane, Infubinol, and Ceftamin\n",
    "\n",
    "\n",
    "# Start by getting the last (greatest) timepoint for each mouse\n",
    "max_timepoint = df_drug['Timepoint'].max()\n",
    "\n",
    "# Merge this group df with the original dataframe to get the tumor volume at the last timepoint\n",
    "df_clean1 = pd.merge(df_clean,max_timepoint, on= 'Drug Regimen', how = 'outer')\n",
    "\n",
    "df_clean1 = df_clean1.rename(columns={'Timepoint_x' : \"Timepoint\", 'Timepoint_y' : \"Max Timepoint\"})\n",
    "\n",
    "df_final_timepoint = df_clean1.loc[df_clean1['Timepoint']==df_clean1['Max Timepoint'],:]\n",
    "df_capomulin = df_final_timepoint.loc[df_final_timepoint['Drug Regimen']=='Capomulin',:]\n",
    "df_capomulin = df_capomulin[['Mouse ID','Tumor Volume (mm3)']]\n",
    "df_capomulin = df_capomulin.rename(columns={'Tumor Volume (mm3)':'Capomulin Final Tumor Volume (mm3)'})\n",
    "#print(df_capomulin)\n",
    "df_Ramicane = df_final_timepoint.loc[df_final_timepoint['Drug Regimen']=='Ramicane',:]\n",
    "df_Ramicane = df_Ramicane[['Mouse ID','Tumor Volume (mm3)']]\n",
    "df_Ramicane = df_Ramicane.rename(columns={'Tumor Volume (mm3)':'Ramicane Final Tumor Volume (mm3)'})\n",
    "#print(df_Ramicane)\n",
    "df_Infubinol = df_final_timepoint.loc[df_final_timepoint['Drug Regimen']=='Infubinol',:]\n",
    "df_Infubinol = df_Infubinol[['Mouse ID','Tumor Volume (mm3)']]\n",
    "df_Infubinol = df_Infubinol.rename(columns={'Tumor Volume (mm3)':'Infubinol Final Tumor Volume (mm3)'})\n",
    "#print(df_Infubinol)\n",
    "df_Ceftamin = df_final_timepoint.loc[df_final_timepoint['Drug Regimen']=='Ceftamin',:]\n",
    "df_Ceftamin = df_Ceftamin[['Mouse ID','Tumor Volume (mm3)']]\n",
    "df_Ceftamin = df_Ceftamin.rename(columns={'Tumor Volume (mm3)':'Ceftamin Final Tumor Volume (mm3)'})\n",
    "#print(df_Ceftamin)\n",
    "\n",
    "final_volumne_df = pd.merge(df_capomulin,df_Ramicane, on='Mouse ID', how = 'outer')\n",
    "final_volumne_df = pd.merge(final_volumne_df,df_Infubinol, on='Mouse ID', how = 'outer')\n",
    "final_volumne_df = pd.merge(final_volumne_df,df_Ceftamin, on='Mouse ID', how = 'outer')\n",
    "final_volumne_df.head()"
   ]
  },
  {
   "cell_type": "code",
   "execution_count": 88,
   "metadata": {},
   "outputs": [
    {
     "ename": "SyntaxError",
     "evalue": "invalid syntax (<ipython-input-88-ddaadec8dfca>, line 6)",
     "output_type": "error",
     "traceback": [
      "\u001b[1;36m  File \u001b[1;32m\"<ipython-input-88-ddaadec8dfca>\"\u001b[1;36m, line \u001b[1;32m6\u001b[0m\n\u001b[1;33m    for treatment in treatments\u001b[0m\n\u001b[1;37m                               ^\u001b[0m\n\u001b[1;31mSyntaxError\u001b[0m\u001b[1;31m:\u001b[0m invalid syntax\n"
     ]
    }
   ],
   "source": [
    "# Put treatments into a list for for loop (and later for plot labels)\n",
    "treatments = ['Capomulin', 'Ramicane', 'Infubinol', 'Ceftamin', 'Ketapril', 'Naftisol', 'Placebo', 'Propriva', \n",
    "              'Stelasyn', 'Zoniferol']\n",
    "\n",
    "# Create empty list to fill with tumor vol data (for plotting)\n",
    "volume_list = []\n",
    "for treatment in treatments\n",
    "    volume_list.append\n",
    "\n",
    "\n",
    "# Calculate the IQR and quantitatively determine if there are any potential outliers. \n",
    "\n",
    "    \n",
    "    # Locate the rows which contain mice on each drug and get the tumor volumes\n",
    "    \n",
    "    \n",
    "    # add subset \n",
    "    \n",
    "    \n",
    "    # Determine outliers using upper and lower bounds\n",
    "    "
   ]
  },
  {
   "cell_type": "code",
   "execution_count": null,
   "metadata": {},
   "outputs": [],
   "source": [
    "# Generate a box plot of the final tumor volume of each mouse across four regimens of interest\n"
   ]
  },
  {
   "cell_type": "markdown",
   "metadata": {},
   "source": [
    "## Line and Scatter Plots"
   ]
  },
  {
   "cell_type": "code",
   "execution_count": 16,
   "metadata": {},
   "outputs": [],
   "source": [
    "# Generate a line plot of tumor volume vs. time point for a mouse treated with Capomulin\n"
   ]
  },
  {
   "cell_type": "code",
   "execution_count": 17,
   "metadata": {},
   "outputs": [],
   "source": [
    "# Generate a scatter plot of average tumor volume vs. mouse weight for the Capomulin regimen\n"
   ]
  },
  {
   "cell_type": "markdown",
   "metadata": {},
   "source": [
    "## Correlation and Regression"
   ]
  },
  {
   "cell_type": "code",
   "execution_count": 18,
   "metadata": {},
   "outputs": [],
   "source": [
    "# Calculate the correlation coefficient and linear regression model \n",
    "# for mouse weight and average tumor volume for the Capomulin regimen\n"
   ]
  },
  {
   "cell_type": "code",
   "execution_count": null,
   "metadata": {},
   "outputs": [],
   "source": []
  }
 ],
 "metadata": {
  "anaconda-cloud": {},
  "kernelspec": {
   "display_name": "Python [conda env:PythonData] *",
   "language": "python",
   "name": "conda-env-PythonData-py"
  },
  "language_info": {
   "codemirror_mode": {
    "name": "ipython",
    "version": 3
   },
   "file_extension": ".py",
   "mimetype": "text/x-python",
   "name": "python",
   "nbconvert_exporter": "python",
   "pygments_lexer": "ipython3",
   "version": "3.6.10"
  }
 },
 "nbformat": 4,
 "nbformat_minor": 4
}
